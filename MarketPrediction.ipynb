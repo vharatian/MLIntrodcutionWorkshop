{
  "cells": [
    {
      "cell_type": "markdown",
      "source": [
        "**Download data**"
      ],
      "metadata": {
        "id": "1RAErhuBnwoi"
      }
    },
    {
      "cell_type": "code",
      "source": [
        "import requests\n",
        "\n",
        "url = \"https://github.com/vharatian/MLIntrodcutionWorkshop/raw/main/all_stocks_5yr.csv\"\n",
        "file_address = \"/content/data.csv\"\n",
        "\n",
        "response = requests.get(url)\n",
        "\n",
        "if response.status_code == 200:\n",
        "    with open(file_address, 'wb') as file:\n",
        "        file.write(response.content)\n",
        "    print(f\"File '{file_address}' downloaded successfully.\")\n",
        "else:\n",
        "    print(f\"Failed to download the file. Status code: {response.status_code}\")"
      ],
      "metadata": {
        "id": "OrthnD3lnL3v"
      },
      "execution_count": null,
      "outputs": []
    },
    {
      "cell_type": "markdown",
      "source": [
        "**Load data and filter Apple**"
      ],
      "metadata": {
        "id": "ypu-HD_AnqI7"
      }
    },
    {
      "cell_type": "code",
      "execution_count": null,
      "metadata": {
        "id": "s9Pgwa3e3FCo"
      },
      "outputs": [],
      "source": [
        "import pandas as pd\n",
        "import numpy as np\n",
        "\n",
        "df = pd.read_csv(file_address)\n",
        "df = df.loc[df['Name'] == 'AAPL']\n",
        "df.info()"
      ]
    },
    {
      "cell_type": "code",
      "execution_count": null,
      "metadata": {
        "id": "ACwXkAvA6RTv"
      },
      "outputs": [],
      "source": [
        "df2 = df['close']\n",
        "df2 = pd.DataFrame(df2)\n",
        "\n",
        "future_days = 100\n",
        "df2['Prediction'] = df2['close'].shift(-future_days)\n",
        "\n",
        "X = np.array(df2.drop(['Prediction'], 1))[:-future_days]\n",
        "y = np.array(df2['Prediction'])[:-future_days]"
      ]
    },
    {
      "cell_type": "markdown",
      "source": [
        "**Split the data and create models**"
      ],
      "metadata": {
        "id": "k3U9a2HmoJ7B"
      }
    },
    {
      "cell_type": "code",
      "source": [
        "from sklearn.model_selection import train_test_split\n",
        "from sklearn.tree import DecisionTreeRegressor\n",
        "from sklearn.linear_model import LinearRegression, LogisticRegression, Ridge, Lasso\n",
        "\n",
        "x_train, x_test, y_train, y_test = train_test_split(X, y, test_size = 0.2)\n",
        "x_future = df2.drop(['Prediction'], 1)[:-future_days]\n",
        "x_future = x_future.tail(future_days)\n",
        "x_future = np.array(x_future)"
      ],
      "metadata": {
        "id": "TFUllj0loR8K"
      },
      "execution_count": null,
      "outputs": []
    },
    {
      "cell_type": "markdown",
      "source": [
        "**Draw prediction function**"
      ],
      "metadata": {
        "id": "vVbt01nsoVrF"
      }
    },
    {
      "cell_type": "code",
      "execution_count": 72,
      "metadata": {
        "id": "rq1uWike6pNv"
      },
      "outputs": [],
      "source": [
        "def draw_prediction(predictions):\n",
        "  valid = df2[X.shape[0]:]\n",
        "  valid['Predictions'] = predictions\n",
        "\n",
        "  plt.figure(figsize=(16,8))\n",
        "  plt.title(\"Model\")\n",
        "  plt.xlabel('Days')\n",
        "  plt.ylabel('Close Price USD ($)')\n",
        "  plt.plot(df2['close'])\n",
        "  plt.plot(valid[['close', 'Predictions']])\n",
        "  plt.legend([\"Original\", \"Valid\", 'Predicted'])\n",
        "  plt.show()"
      ]
    },
    {
      "cell_type": "markdown",
      "source": [
        "**Predict using linear regression**"
      ],
      "metadata": {
        "id": "r7Ij-Py9oi-Y"
      }
    },
    {
      "cell_type": "code",
      "source": [
        "lr = LinearRegression().fit(x_train, y_train)\n",
        "lr_prediction = lr.predict(x_future)\n",
        "\n",
        "draw_prediction(lr_prediction)"
      ],
      "metadata": {
        "id": "coEJ4y0nom4p"
      },
      "execution_count": null,
      "outputs": []
    },
    {
      "cell_type": "markdown",
      "source": [],
      "metadata": {
        "id": "dGTbT5sxIkrh"
      }
    },
    {
      "cell_type": "markdown",
      "source": [
        "**Improve liner model**"
      ],
      "metadata": {
        "id": "yhjcpOUducEm"
      }
    },
    {
      "cell_type": "code",
      "source": [
        "from sklearn.preprocessing import PolynomialFeatures\n",
        "\n",
        "poly_reg = PolynomialFeatures(degree = 3)\n",
        "X_polynomial = poly_reg.fit_transform(x_train)\n",
        "lr_pol = LinearRegression()\n",
        "lr_pol.fit(X_polynomial, y_train)\n",
        "lr_pol_prediction = lr_pol.predict(poly_reg.fit_transform(x_future))\n",
        "\n",
        "draw_prediction(lr_pol_prediction)"
      ],
      "metadata": {
        "id": "U8NpZ57PqYil"
      },
      "execution_count": null,
      "outputs": []
    },
    {
      "cell_type": "markdown",
      "source": [
        "**Predict using decision tree**"
      ],
      "metadata": {
        "id": "A5pANJAmn_j_"
      }
    },
    {
      "cell_type": "code",
      "source": [
        "tree = DecisionTreeRegressor().fit(x_train, y_train)\n",
        "\n",
        "tree_prediction = tree.predict(x_future)\n",
        "draw_prediction(tree_prediction)"
      ],
      "metadata": {
        "id": "rsR8sSTdoERk"
      },
      "execution_count": null,
      "outputs": []
    }
  ],
  "metadata": {
    "colab": {
      "provenance": []
    },
    "kernelspec": {
      "display_name": "Python 3",
      "name": "python3"
    },
    "language_info": {
      "name": "python"
    }
  },
  "nbformat": 4,
  "nbformat_minor": 0
}