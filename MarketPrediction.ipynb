{
  "cells": [
    {
      "cell_type": "code",
      "execution_count": 1,
      "metadata": {
        "id": "UQJOIBP322ui"
      },
      "outputs": [],
      "source": [
        "import pandas as pd\n",
        "import numpy as np\n",
        "import matplotlib.pyplot as plt"
      ]
    },
    {
      "cell_type": "code",
      "execution_count": null,
      "metadata": {
        "colab": {
          "base_uri": "https://localhost:8080/"
        },
        "id": "s9Pgwa3e3FCo",
        "outputId": "31fcd556-b1cd-42ea-954b-b0eb92f3db37"
      },
      "outputs": [],
      "source": [
        "df = pd.read_csv('.//all_stocks_5yr.csv')\n",
        "df.info()"
      ]
    },
    {
      "cell_type": "code",
      "execution_count": 19,
      "metadata": {
        "id": "w7eVPn2e8mkH"
      },
      "outputs": [],
      "source": [
        "df = df.loc[df['Name'] == 'AAPL']"
      ]
    },
    {
      "cell_type": "code",
      "execution_count": null,
      "metadata": {
        "colab": {
          "base_uri": "https://localhost:8080/",
          "height": 718
        },
        "id": "2-tU3n613La8",
        "outputId": "44521f1d-3542-4dca-e3c5-c7374e7b38d8"
      },
      "outputs": [],
      "source": [
        "plt.figure(figsize=(16,8))\n",
        "plt.title('Apple')\n",
        "plt.xlabel('Days')\n",
        "plt.ylabel('Opening Price USD ($)')\n",
        "plt.plot(df['open'])\n",
        "plt.show()"
      ]
    },
    {
      "cell_type": "code",
      "execution_count": null,
      "metadata": {
        "colab": {
          "base_uri": "https://localhost:8080/",
          "height": 718
        },
        "id": "7UxB0EGN3N5l",
        "outputId": "bcbd8301-d70d-4711-a5cf-92414d3e53ee"
      },
      "outputs": [],
      "source": [
        "plt.figure(figsize=(16,8))\n",
        "plt.title('Apple')\n",
        "plt.xlabel('Days')\n",
        "plt.ylabel('High Price USD ($)')\n",
        "plt.plot(df['high'])\n",
        "plt.show()"
      ]
    },
    {
      "cell_type": "code",
      "execution_count": null,
      "metadata": {
        "colab": {
          "base_uri": "https://localhost:8080/"
        },
        "id": "ACwXkAvA6RTv",
        "outputId": "a215636a-2f47-46ac-e026-bab77f4acfd9"
      },
      "outputs": [],
      "source": [
        "df2 = df['close']\n",
        "df2 = pd.DataFrame(df2)\n",
        "\n",
        "future_days = 100\n",
        "df2['Prediction'] = df2['close'].shift(-future_days)\n",
        "\n",
        "X = np.array(df2.drop(['Prediction'], 1))[:-future_days]\n",
        "y = np.array(df2['Prediction'])[:-future_days]"
      ]
    },
    {
      "cell_type": "code",
      "execution_count": null,
      "metadata": {
        "colab": {
          "base_uri": "https://localhost:8080/",
          "height": 857
        },
        "id": "rq1uWike6pNv",
        "outputId": "8c20f483-a5dc-48c2-d391-86667316f66c"
      },
      "outputs": [],
      "source": [
        "from sklearn.model_selection import train_test_split\n",
        "from sklearn.tree import DecisionTreeRegressor\n",
        "from sklearn.linear_model import LinearRegression\n",
        "\n",
        "x_train, x_test, y_train, y_test = train_test_split(X, y, test_size = 0.2)\n",
        "tree = DecisionTreeRegressor().fit(x_train, y_train)\n",
        "lr = LinearRegression().fit(x_train, y_train)\n",
        "\n",
        "x_future = df2.drop(['Prediction'], 1)[:-future_days]\n",
        "x_future = x_future.tail(future_days)\n",
        "x_future = np.array(x_future)\n",
        "\n",
        "tree_prediction = tree.predict(x_future)\n",
        "lr_prediction = lr.predict(x_future)\n",
        "\n",
        "predictions = tree_prediction\n",
        "valid = df2[X.shape[0]:]\n",
        "valid['Predictions'] = predictions\n",
        "\n",
        "\n",
        "plt.figure(figsize=(16,8))\n",
        "plt.title(\"Model\")\n",
        "plt.xlabel('Days')\n",
        "plt.ylabel('Close Price USD ($)')\n",
        "plt.plot(df2['close'])\n",
        "plt.plot(valid[['close', 'Predictions']])\n",
        "plt.legend([\"Original\", \"Valid\", 'Predicted'])\n",
        "plt.show()"
      ]
    }
  ],
  "metadata": {
    "colab": {
      "provenance": []
    },
    "kernelspec": {
      "display_name": "Python 3",
      "name": "python3"
    },
    "language_info": {
      "name": "python"
    }
  },
  "nbformat": 4,
  "nbformat_minor": 0
}
